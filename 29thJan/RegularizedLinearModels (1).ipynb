{
 "cells": [
  {
   "cell_type": "code",
   "execution_count": 2,
   "metadata": {
    "collapsed": true,
    "jupyter": {
     "outputs_hidden": true
    },
    "tags": []
   },
   "outputs": [
    {
     "name": "stdout",
     "output_type": "stream",
     "text": [
      "Defaulting to user installation because normal site-packages is not writeable\n",
      "Collecting mglearn\n",
      "  Downloading mglearn-0.1.9.tar.gz (540 kB)\n",
      "\u001b[2K     \u001b[90m━━━━━━━━━━━━━━━━━━━━━━━━━━━━━━━━━━━━━━━\u001b[0m \u001b[32m540.1/540.1 KB\u001b[0m \u001b[31m9.4 MB/s\u001b[0m eta \u001b[36m0:00:00\u001b[0m00:01\u001b[0m\n",
      "\u001b[?25h  Preparing metadata (setup.py) ... \u001b[?25ldone\n",
      "\u001b[?25hRequirement already satisfied: numpy in /usr/local/lib/python3.7/site-packages (from mglearn) (1.21.5)\n",
      "Requirement already satisfied: matplotlib in /usr/local/lib/python3.7/site-packages (from mglearn) (3.5.1)\n",
      "Requirement already satisfied: scikit-learn in /usr/local/lib/python3.7/site-packages (from mglearn) (0.24.2)\n",
      "Requirement already satisfied: pandas in /usr/local/lib/python3.7/site-packages (from mglearn) (1.1.5)\n",
      "Requirement already satisfied: pillow in /usr/local/lib/python3.7/site-packages (from mglearn) (7.1.1)\n",
      "Requirement already satisfied: cycler in /usr/local/lib/python3.7/site-packages (from mglearn) (0.10.0)\n",
      "Requirement already satisfied: imageio in /usr/local/lib/python3.7/site-packages (from mglearn) (2.8.0)\n",
      "Requirement already satisfied: joblib in /usr/local/lib/python3.7/site-packages (from mglearn) (0.14.1)\n",
      "Requirement already satisfied: six in /usr/local/lib/python3.7/site-packages (from cycler->mglearn) (1.14.0)\n",
      "Requirement already satisfied: fonttools>=4.22.0 in /usr/local/lib/python3.7/site-packages (from matplotlib->mglearn) (4.28.5)\n",
      "Requirement already satisfied: packaging>=20.0 in /usr/local/lib/python3.7/site-packages (from matplotlib->mglearn) (21.0)\n",
      "Requirement already satisfied: python-dateutil>=2.7 in /usr/local/lib/python3.7/site-packages (from matplotlib->mglearn) (2.8.1)\n",
      "Requirement already satisfied: pyparsing>=2.2.1 in /usr/local/lib/python3.7/site-packages (from matplotlib->mglearn) (2.4.6)\n",
      "Requirement already satisfied: kiwisolver>=1.0.1 in /usr/local/lib/python3.7/site-packages (from matplotlib->mglearn) (1.2.0)\n",
      "Requirement already satisfied: pytz>=2017.2 in /usr/local/lib/python3.7/site-packages (from pandas->mglearn) (2019.3)\n",
      "Requirement already satisfied: scipy>=0.19.1 in /usr/local/lib/python3.7/site-packages (from scikit-learn->mglearn) (1.4.1)\n",
      "Requirement already satisfied: threadpoolctl>=2.0.0 in /usr/local/lib/python3.7/site-packages (from scikit-learn->mglearn) (2.2.0)\n",
      "Building wheels for collected packages: mglearn\n",
      "  Building wheel for mglearn (setup.py) ... \u001b[?25ldone\n",
      "\u001b[?25h  Created wheel for mglearn: filename=mglearn-0.1.9-py2.py3-none-any.whl size=582638 sha256=be880be7526aa09fba532c50b1da13c496b16d2129073080f2ecb60673c5298d\n",
      "  Stored in directory: /home/labsuser/.cache/pip/wheels/f1/17/e1/1720d6dcd70187b6b6c3750cb3508798f2b1d57c9d3214b08b\n",
      "Successfully built mglearn\n",
      "Installing collected packages: mglearn\n",
      "Successfully installed mglearn-0.1.9\n",
      "\u001b[33mWARNING: You are using pip version 22.0.3; however, version 22.0.4 is available.\n",
      "You should consider upgrading via the '/usr/local/bin/python3 -m pip install --upgrade pip' command.\u001b[0m\u001b[33m\n",
      "\u001b[0m"
     ]
    }
   ],
   "source": [
    "# Run this command if you dont have mglearn installed. After running restart your kernel\n",
    "!pip install mglearn"
   ]
  },
  {
   "cell_type": "code",
   "execution_count": 1,
   "metadata": {},
   "outputs": [],
   "source": [
    "import mglearn\n",
    "import numpy as np\n",
    "import matplotlib.pyplot as plt"
   ]
  },
  {
   "cell_type": "code",
   "execution_count": 2,
   "metadata": {},
   "outputs": [],
   "source": [
    "from sklearn.metrics import mean_absolute_error, mean_squared_error"
   ]
  },
  {
   "cell_type": "code",
   "execution_count": 3,
   "metadata": {},
   "outputs": [],
   "source": [
    "from sklearn.model_selection import train_test_split\n",
    "from sklearn.linear_model import LinearRegression"
   ]
  },
  {
   "cell_type": "code",
   "execution_count": 4,
   "metadata": {
    "collapsed": true,
    "jupyter": {
     "outputs_hidden": true
    },
    "tags": []
   },
   "outputs": [
    {
     "name": "stderr",
     "output_type": "stream",
     "text": [
      "/usr/local/lib/python3.7/site-packages/sklearn/utils/deprecation.py:87: FutureWarning: Function load_boston is deprecated; `load_boston` is deprecated in 1.0 and will be removed in 1.2.\n",
      "\n",
      "    The Boston housing prices dataset has an ethical problem. You can refer to\n",
      "    the documentation of this function for further details.\n",
      "\n",
      "    The scikit-learn maintainers therefore strongly discourage the use of this\n",
      "    dataset unless the purpose of the code is to study and educate about\n",
      "    ethical issues in data science and machine learning.\n",
      "\n",
      "    In this special case, you can fetch the dataset from the original\n",
      "    source::\n",
      "\n",
      "        import pandas as pd\n",
      "        import numpy as np\n",
      "\n",
      "\n",
      "        data_url = \"http://lib.stat.cmu.edu/datasets/boston\"\n",
      "        raw_df = pd.read_csv(data_url, sep=\"\\s+\", skiprows=22, header=None)\n",
      "        data = np.hstack([raw_df.values[::2, :], raw_df.values[1::2, :2]])\n",
      "        target = raw_df.values[1::2, 2]\n",
      "\n",
      "    Alternative datasets include the California housing dataset (i.e.\n",
      "    :func:`~sklearn.datasets.fetch_california_housing`) and the Ames housing\n",
      "    dataset. You can load the datasets as follows::\n",
      "\n",
      "        from sklearn.datasets import fetch_california_housing\n",
      "        housing = fetch_california_housing()\n",
      "\n",
      "    for the California housing dataset and::\n",
      "\n",
      "        from sklearn.datasets import fetch_openml\n",
      "        housing = fetch_openml(name=\"house_prices\", as_frame=True)\n",
      "\n",
      "    for the Ames housing dataset.\n",
      "    \n",
      "  warnings.warn(msg, category=FutureWarning)\n"
     ]
    }
   ],
   "source": [
    "X,y = mglearn.datasets.load_extended_boston()\n",
    "X_train, X_test, y_train, y_test = train_test_split(X,y,random_state=0)\n"
   ]
  },
  {
   "cell_type": "code",
   "execution_count": 5,
   "metadata": {},
   "outputs": [
    {
     "data": {
      "text/plain": [
       "(379, 104)"
      ]
     },
     "execution_count": 5,
     "metadata": {},
     "output_type": "execute_result"
    }
   ],
   "source": [
    "X_train.shape"
   ]
  },
  {
   "cell_type": "markdown",
   "metadata": {},
   "source": [
    "#### Linear Regression"
   ]
  },
  {
   "cell_type": "code",
   "execution_count": 6,
   "metadata": {},
   "outputs": [],
   "source": [
    "my_linear_reg = LinearRegression().fit(X_train, y_train)"
   ]
  },
  {
   "cell_type": "code",
   "execution_count": 7,
   "metadata": {},
   "outputs": [
    {
     "name": "stdout",
     "output_type": "stream",
     "text": [
      "TRAIN DATA RESULTS\n",
      "Mean Absolute Error on Train data :  1.5674141791450238\n",
      "Mean Squared Error on Train data :  4.090362612543772\n",
      "Training Set R squared score :  0.9520519609032729\n",
      "\n",
      "TEST DATA RESULTS\n",
      "Mean Absolute Error on Test data :  3.2258952120186133\n",
      "Mean Squared Error on Test data :  32.06913512158133\n",
      "Test Set R squared score :  0.6074721959665972\n"
     ]
    }
   ],
   "source": [
    "my_preds_train = my_linear_reg.predict(X_train)\n",
    "my_preds_test = my_linear_reg.predict(X_test)\n",
    "\n",
    "print('TRAIN DATA RESULTS')\n",
    "print(\"Mean Absolute Error on Train data : \", mean_absolute_error(y_train, my_preds_train))\n",
    "print(\"Mean Squared Error on Train data : \", mean_squared_error(y_train, my_preds_train))\n",
    "print('Training Set R squared score : ', my_linear_reg.score(X_train, y_train))\n",
    "\n",
    "print('\\nTEST DATA RESULTS')\n",
    "print(\"Mean Absolute Error on Test data : \", mean_absolute_error(y_test, my_preds_test))\n",
    "print(\"Mean Squared Error on Test data : \", mean_squared_error(y_test, my_preds_test))\n",
    "print('Test Set R squared score : ', my_linear_reg.score(X_test, y_test))"
   ]
  },
  {
   "cell_type": "code",
   "execution_count": 9,
   "metadata": {},
   "outputs": [
    {
     "data": {
      "text/plain": [
       "<matplotlib.legend.Legend at 0x7f09ff3cadd0>"
      ]
     },
     "execution_count": 9,
     "metadata": {},
     "output_type": "execute_result"
    },
    {
     "data": {
      "image/png": "[encoded data removed]",
      "text/plain": [
       "<Figure size 432x288 with 1 Axes>"
      ]
     },
     "metadata": {
      "needs_background": "light"
     },
     "output_type": "display_data"
    }
   ],
   "source": [
    "plt.plot(my_linear_reg.coef_,'x', label = 'LinearRegression')\n",
    "plt.xlabel('Coefficient index')\n",
    "plt.ylabel('Coefficient Magnitude')\n",
    "plt.legend()"
   ]
  },
  {
   "cell_type": "markdown",
   "metadata": {},
   "source": [
    "#### Ridge Regression"
   ]
  },
  {
   "cell_type": "code",
   "execution_count": 8,
   "metadata": {},
   "outputs": [
    {
     "name": "stdout",
     "output_type": "stream",
     "text": [
      "TRAIN DATA RESULTS\n",
      "Mean Absolute Error on Train data :  2.1656396671236777\n",
      "Mean Squared Error on Train data :  9.742485553723796\n",
      "Training Set R squared score :  0.8857966585170942\n",
      "\n",
      "TEST DATA RESULTS\n",
      "Mean Absolute Error on Test data :  2.9626926001410125\n",
      "Mean Squared Error on Test data :  20.19858253926341\n",
      "Test Set R squared score :  0.7527683481744754\n"
     ]
    }
   ],
   "source": [
    "from sklearn.linear_model import Ridge\n",
    "\n",
    "my_ridge_model = Ridge().fit(X_train, y_train)\n",
    "\n",
    "my_preds_train = my_ridge_model.predict(X_train)\n",
    "my_preds_test = my_ridge_model.predict(X_test)\n",
    "\n",
    "print('TRAIN DATA RESULTS')\n",
    "print(\"Mean Absolute Error on Train data : \", mean_absolute_error(y_train, my_preds_train))\n",
    "print(\"Mean Squared Error on Train data : \", mean_squared_error(y_train, my_preds_train))\n",
    "print('Training Set R squared score : ', my_ridge_model.score(X_train, y_train))\n",
    "\n",
    "print('\\nTEST DATA RESULTS')\n",
    "print(\"Mean Absolute Error on Test data : \", mean_absolute_error(y_test, my_preds_test))\n",
    "print(\"Mean Squared Error on Test data : \", mean_squared_error(y_test, my_preds_test))\n",
    "print('Test Set R squared score : ', my_ridge_model.score(X_test, y_test))"
   ]
  },
  {
   "cell_type": "code",
   "execution_count": 9,
   "metadata": {},
   "outputs": [
    {
     "data": {
      "text/plain": [
       "<matplotlib.legend.Legend at 0x7f909fa255d0>"
      ]
     },
     "execution_count": 9,
     "metadata": {},
     "output_type": "execute_result"
    },
    {
     "data": {
      "image/png": "[encoded data removed]",
      "text/plain": [
       "<Figure size 432x288 with 1 Axes>"
      ]
     },
     "metadata": {
      "needs_background": "light"
     },
     "output_type": "display_data"
    }
   ],
   "source": [
    "plt.plot(my_ridge_model.coef_, '.', label ='RidgeRegression')\n",
    "plt.plot(my_linear_reg.coef_,'x', label ='LinearRegression')\n",
    "plt.xlabel('Coefficient index')\n",
    "plt.ylabel('Coefficient Magnitude')\n",
    "plt.ylim(-50,50)\n",
    "plt.legend()"
   ]
  },
  {
   "cell_type": "code",
   "execution_count": 14,
   "metadata": {},
   "outputs": [
    {
     "name": "stdout",
     "output_type": "stream",
     "text": [
      "TRAIN DATA RESULTS\n",
      "Mean Absolute Error on Train data :  1.789685987552909\n",
      "Mean Squared Error on Train data :  6.1227965527105\n",
      "Training Set R squared score :  0.9282273685001987\n",
      "\n",
      "TEST DATA RESULTS\n",
      "Mean Absolute Error on Test data :  2.911375543647789\n",
      "Mean Squared Error on Test data :  18.610480682429458\n",
      "Test Set R squared score :  0.7722067936480139\n"
     ]
    }
   ],
   "source": [
    "my_ridge_model = Ridge(alpha=0.1).fit(X_train, y_train)\n",
    "\n",
    "my_preds_train = my_ridge_model.predict(X_train)\n",
    "my_preds_test = my_ridge_model.predict(X_test)\n",
    "\n",
    "print('TRAIN DATA RESULTS')\n",
    "print(\"Mean Absolute Error on Train data : \", mean_absolute_error(y_train, my_preds_train))\n",
    "print(\"Mean Squared Error on Train data : \", mean_squared_error(y_train, my_preds_train))\n",
    "print('Training Set R squared score : ', my_ridge_model.score(X_train, y_train))\n",
    "\n",
    "print('\\nTEST DATA RESULTS')\n",
    "print(\"Mean Absolute Error on Test data : \", mean_absolute_error(y_test, my_preds_test))\n",
    "print(\"Mean Squared Error on Test data : \", mean_squared_error(y_test, my_preds_test))\n",
    "print('Test Set R squared score : ', my_ridge_model.score(X_test, y_test))"
   ]
  },
  {
   "cell_type": "code",
   "execution_count": 15,
   "metadata": {},
   "outputs": [
    {
     "data": {
      "text/plain": [
       "<matplotlib.legend.Legend at 0x7f909f884510>"
      ]
     },
     "execution_count": 15,
     "metadata": {},
     "output_type": "execute_result"
    },
    {
     "data": {
      "image/png": "[encoded data removed]",
      "text/plain": [
       "<Figure size 432x288 with 1 Axes>"
      ]
     },
     "metadata": {
      "needs_background": "light"
     },
     "output_type": "display_data"
    }
   ],
   "source": [
    "plt.plot(my_ridge_model.coef_, '.', label ='RidgeRegression')\n",
    "plt.plot(my_linear_reg.coef_,'x', label ='LinearRegression')\n",
    "plt.xlabel('Coefficient index')\n",
    "plt.ylabel('Coefficient Magnitude')\n",
    "plt.ylim(-50,50)\n",
    "plt.legend()"
   ]
  },
  {
   "cell_type": "code",
   "execution_count": 25,
   "metadata": {},
   "outputs": [
    {
     "name": "stdout",
     "output_type": "stream",
     "text": [
      "TRAIN DATA RESULTS\n",
      "Mean Absolute Error on Train data :  1.8610153792379693\n",
      "Mean Squared Error on Train data :  6.830805375000486\n",
      "Training Set R squared score :  0.9199279491313922\n",
      "\n",
      "TEST DATA RESULTS\n",
      "Mean Absolute Error on Test data :  2.8922278855188437\n",
      "Mean Squared Error on Test data :  18.386795859107956\n",
      "Test Set R squared score :  0.7749447069768615\n"
     ]
    }
   ],
   "source": [
    "from sklearn.linear_model import Ridge\n",
    "\n",
    "my_ridge_model = Ridge(alpha=0.2).fit(X_train, y_train)\n",
    "\n",
    "my_preds_train = my_ridge_model.predict(X_train)\n",
    "my_preds_test = my_ridge_model.predict(X_test)\n",
    "\n",
    "print('TRAIN DATA RESULTS')\n",
    "print(\"Mean Absolute Error on Train data : \", mean_absolute_error(y_train, my_preds_train))\n",
    "print(\"Mean Squared Error on Train data : \", mean_squared_error(y_train, my_preds_train))\n",
    "print('Training Set R squared score : ', my_ridge_model.score(X_train, y_train))\n",
    "\n",
    "print('\\nTEST DATA RESULTS')\n",
    "print(\"Mean Absolute Error on Test data : \", mean_absolute_error(y_test, my_preds_test))\n",
    "print(\"Mean Squared Error on Test data : \", mean_squared_error(y_test, my_preds_test))\n",
    "print('Test Set R squared score : ', my_ridge_model.score(X_test, y_test))"
   ]
  },
  {
   "cell_type": "code",
   "execution_count": 26,
   "metadata": {},
   "outputs": [
    {
     "data": {
      "text/plain": [
       "<matplotlib.legend.Legend at 0x7f909f75ed90>"
      ]
     },
     "execution_count": 26,
     "metadata": {},
     "output_type": "execute_result"
    },
    {
     "data": {
      "image/png": "[encoded data removed]",
      "text/plain": [
       "<Figure size 432x288 with 1 Axes>"
      ]
     },
     "metadata": {
      "needs_background": "light"
     },
     "output_type": "display_data"
    }
   ],
   "source": [
    "plt.plot(my_ridge_model.coef_, '.', label ='RidgeRegression')\n",
    "plt.plot(my_linear_reg.coef_,'x', label ='LinearRegression')\n",
    "plt.xlabel('Coefficient index')\n",
    "plt.ylabel('Coefficient Magnitude')\n",
    "plt.ylim(-50,50)\n",
    "plt.legend()"
   ]
  },
  {
   "cell_type": "markdown",
   "metadata": {},
   "source": [
    "#### Lasso Regression"
   ]
  },
  {
   "cell_type": "code",
   "execution_count": 27,
   "metadata": {},
   "outputs": [],
   "source": [
    "from sklearn.linear_model import Lasso"
   ]
  },
  {
   "cell_type": "code",
   "execution_count": 28,
   "metadata": {},
   "outputs": [
    {
     "name": "stdout",
     "output_type": "stream",
     "text": [
      "TRAIN DATA RESULTS\n",
      "Mean Absolute Error on Train data :  5.512753169106904\n",
      "Mean Squared Error on Train data :  60.29264561394445\n",
      "Training Set R squared score :  0.29323768991114607\n",
      "\n",
      "TEST DATA RESULTS\n",
      "Mean Absolute Error on Test data :  5.488898627760888\n",
      "Mean Squared Error on Test data :  64.59328142116775\n",
      "Test Set R squared score :  0.20937503255272294\n"
     ]
    }
   ],
   "source": [
    "my_lasso = Lasso().fit(X_train, y_train)\n",
    "\n",
    "my_preds_train = my_lasso.predict(X_train)\n",
    "my_preds_test = my_lasso.predict(X_test)\n",
    "\n",
    "print('TRAIN DATA RESULTS')\n",
    "print(\"Mean Absolute Error on Train data : \", mean_absolute_error(y_train, my_preds_train))\n",
    "print(\"Mean Squared Error on Train data : \", mean_squared_error(y_train, my_preds_train))\n",
    "print('Training Set R squared score : ', my_lasso.score(X_train, y_train))\n",
    "\n",
    "print('\\nTEST DATA RESULTS')\n",
    "print(\"Mean Absolute Error on Test data : \", mean_absolute_error(y_test, my_preds_test))\n",
    "print(\"Mean Squared Error on Test data : \", mean_squared_error(y_test, my_preds_test))\n",
    "print('Test Set R squared score : ', my_lasso.score(X_test, y_test))"
   ]
  },
  {
   "cell_type": "code",
   "execution_count": 29,
   "metadata": {},
   "outputs": [
    {
     "name": "stdout",
     "output_type": "stream",
     "text": [
      "TRAIN DATA RESULTS\n",
      "Mean Absolute Error on Train data :  2.0980931241271286\n",
      "Mean Squared Error on Train data :  8.86248217402341\n",
      "Training Set R squared score :  0.8961122320864716\n",
      "\n",
      "TEST DATA RESULTS\n",
      "Mean Absolute Error on Test data :  2.760201063744704\n",
      "Mean Squared Error on Test data :  18.9705467531401\n",
      "Test Set R squared score :  0.7677995670886713\n"
     ]
    },
    {
     "name": "stderr",
     "output_type": "stream",
     "text": [
      "/usr/local/lib/python3.7/site-packages/sklearn/linear_model/_coordinate_descent.py:648: ConvergenceWarning: Objective did not converge. You might want to increase the number of iterations, check the scale of the features or consider increasing regularisation. Duality gap: 4.690e+01, tolerance: 3.233e+00\n",
      "  coef_, l1_reg, l2_reg, X, y, max_iter, tol, rng, random, positive\n"
     ]
    }
   ],
   "source": [
    "my_lasso = Lasso(alpha=.01).fit(X_train, y_train)\n",
    "\n",
    "my_preds_train = my_lasso.predict(X_train)\n",
    "my_preds_test = my_lasso.predict(X_test)\n",
    "\n",
    "print('TRAIN DATA RESULTS')\n",
    "print(\"Mean Absolute Error on Train data : \", mean_absolute_error(y_train, my_preds_train))\n",
    "print(\"Mean Squared Error on Train data : \", mean_squared_error(y_train, my_preds_train))\n",
    "print('Training Set R squared score : ', my_lasso.score(X_train, y_train))\n",
    "\n",
    "print('\\nTEST DATA RESULTS')\n",
    "print(\"Mean Absolute Error on Test data : \", mean_absolute_error(y_test, my_preds_test))\n",
    "print(\"Mean Squared Error on Test data : \", mean_squared_error(y_test, my_preds_test))\n",
    "print('Test Set R squared score : ', my_lasso.score(X_test, y_test))"
   ]
  },
  {
   "cell_type": "code",
   "execution_count": 32,
   "metadata": {},
   "outputs": [
    {
     "name": "stdout",
     "output_type": "stream",
     "text": [
      "TRAIN DATA RESULTS\n",
      "Mean Absolute Error on Train data :  2.2691886824879575\n",
      "Mean Squared Error on Train data :  10.35298900949222\n",
      "Training Set R squared score :  0.8786402163287899\n",
      "\n",
      "TEST DATA RESULTS\n",
      "Mean Absolute Error on Test data :  3.020343147263376\n",
      "Mean Squared Error on Test data :  20.264144971415853\n",
      "Test Set R squared score :  0.751965860754022\n"
     ]
    },
    {
     "name": "stderr",
     "output_type": "stream",
     "text": [
      "/usr/local/lib/python3.7/site-packages/sklearn/linear_model/_coordinate_descent.py:648: ConvergenceWarning: Objective did not converge. You might want to increase the number of iterations, check the scale of the features or consider increasing regularisation. Duality gap: 2.260e+03, tolerance: 3.233e+00\n",
      "  coef_, l1_reg, l2_reg, X, y, max_iter, tol, rng, random, positive\n"
     ]
    }
   ],
   "source": [
    "my_lasso = Lasso(alpha=.01, max_iter=10).fit(X_train, y_train)\n",
    "\n",
    "my_preds_train = my_lasso.predict(X_train)\n",
    "my_preds_test = my_lasso.predict(X_test)\n",
    "\n",
    "print('TRAIN DATA RESULTS')\n",
    "print(\"Mean Absolute Error on Train data : \", mean_absolute_error(y_train, my_preds_train))\n",
    "print(\"Mean Squared Error on Train data : \", mean_squared_error(y_train, my_preds_train))\n",
    "print('Training Set R squared score : ', my_lasso.score(X_train, y_train))\n",
    "\n",
    "print('\\nTEST DATA RESULTS')\n",
    "print(\"Mean Absolute Error on Test data : \", mean_absolute_error(y_test, my_preds_test))\n",
    "print(\"Mean Squared Error on Test data : \", mean_squared_error(y_test, my_preds_test))\n",
    "print('Test Set R squared score : ', my_lasso.score(X_test, y_test))"
   ]
  },
  {
   "cell_type": "code",
   "execution_count": 34,
   "metadata": {},
   "outputs": [
    {
     "data": {
      "text/plain": [
       "(array([-2.82350962e+01,  9.18166403e+00, -5.51639771e+00,  2.14258397e+00,\n",
       "        -4.55075776e+00,  3.26886493e+01, -5.79018364e-01, -8.36989877e+00,\n",
       "        -6.06178289e-02, -2.93025118e+00, -3.67949849e+00,  2.87884010e+00,\n",
       "        -7.67139580e+00,  6.30516510e+00, -0.00000000e+00,  7.41158394e+00,\n",
       "         0.00000000e+00,  0.00000000e+00,  0.00000000e+00,  2.33635198e+00,\n",
       "         0.00000000e+00,  1.50837346e+00,  0.00000000e+00,  0.00000000e+00,\n",
       "         0.00000000e+00,  0.00000000e+00, -3.05403962e+00, -7.63505491e+00,\n",
       "        -0.00000000e+00, -0.00000000e+00, -1.74590437e+00, -5.18450161e+00,\n",
       "        -0.00000000e+00, -0.00000000e+00, -5.40692860e+00, -0.00000000e+00,\n",
       "        -2.83035824e+00, -0.00000000e+00,  9.16951909e+00,  9.58385746e-01,\n",
       "        -6.10950491e-01, -8.71733014e+00, -2.55224285e-02, -0.00000000e+00,\n",
       "         6.13358963e-01,  0.00000000e+00, -1.64804579e-01,  3.42856536e+00,\n",
       "        -8.28229710e+00, -2.40229576e-01, -2.49351923e+00, -5.88886419e-01,\n",
       "         1.42096348e+00, -0.00000000e+00,  3.23291304e+00,  0.00000000e+00,\n",
       "         0.00000000e+00, -0.00000000e+00, -1.80431133e+00,  0.00000000e+00,\n",
       "        -8.19919839e+00, -3.15740796e-01, -0.00000000e+00, -2.10703457e-01,\n",
       "        -0.00000000e+00, -5.92645553e-01,  2.56120853e+00, -0.00000000e+00,\n",
       "         1.54835721e+01, -9.37753238e+00, -0.00000000e+00, -2.01149195e+00,\n",
       "        -4.88049209e+00, -1.48787066e+01, -1.42478875e-01, -1.82217045e+01,\n",
       "         5.85784092e+00, -0.00000000e+00,  6.92008778e+00, -0.00000000e+00,\n",
       "        -9.53870175e-01, -2.10669131e+00, -3.10482883e+00,  0.00000000e+00,\n",
       "         0.00000000e+00,  0.00000000e+00,  0.00000000e+00, -3.30000431e+00,\n",
       "         0.00000000e+00,  2.57818461e+00,  1.33464579e-02,  1.22146104e-01,\n",
       "         0.00000000e+00, -5.70305139e+00,  2.13977228e+00,  1.52922657e-02,\n",
       "        -2.19691253e-01, -4.02844011e+00,  4.61369480e+00, -0.00000000e+00,\n",
       "         0.00000000e+00, -6.98876958e-01, -2.68422086e+00,  1.38865662e+01]),)"
      ]
     },
     "execution_count": 34,
     "metadata": {},
     "output_type": "execute_result"
    }
   ],
   "source": [
    "my_lasso.coef_"
   ]
  },
  {
   "cell_type": "code",
   "execution_count": 36,
   "metadata": {},
   "outputs": [
    {
     "data": {
      "text/plain": [
       "36"
      ]
     },
     "execution_count": 36,
     "metadata": {},
     "output_type": "execute_result"
    }
   ],
   "source": [
    "104 - np.sum(my_lasso.coef_!=0)"
   ]
  },
  {
   "cell_type": "code",
   "execution_count": 37,
   "metadata": {},
   "outputs": [
    {
     "name": "stdout",
     "output_type": "stream",
     "text": [
      "TRAIN DATA RESULTS\n",
      "Mean Absolute Error on Train data :  1.584355695780287\n",
      "Mean Squared Error on Train data :  4.204341704950065\n",
      "Training Set R squared score :  0.9507158754515463\n",
      "\n",
      "TEST DATA RESULTS\n",
      "Mean Absolute Error on Test data :  3.1361447728472513\n",
      "Mean Squared Error on Test data :  29.105540414791957\n",
      "Test Set R squared score :  0.6437467421272822\n"
     ]
    }
   ],
   "source": [
    "my_lasso = Lasso(alpha=.0001, max_iter=100000).fit(X_train, y_train)\n",
    "\n",
    "my_preds_train = my_lasso.predict(X_train)\n",
    "my_preds_test = my_lasso.predict(X_test)\n",
    "\n",
    "print('TRAIN DATA RESULTS')\n",
    "print(\"Mean Absolute Error on Train data : \", mean_absolute_error(y_train, my_preds_train))\n",
    "print(\"Mean Squared Error on Train data : \", mean_squared_error(y_train, my_preds_train))\n",
    "print('Training Set R squared score : ', my_lasso.score(X_train, y_train))\n",
    "\n",
    "print('\\nTEST DATA RESULTS')\n",
    "print(\"Mean Absolute Error on Test data : \", mean_absolute_error(y_test, my_preds_test))\n",
    "print(\"Mean Squared Error on Test data : \", mean_squared_error(y_test, my_preds_test))\n",
    "print('Test Set R squared score : ', my_lasso.score(X_test, y_test))"
   ]
  },
  {
   "cell_type": "code",
   "execution_count": 36,
   "metadata": {},
   "outputs": [],
   "source": [
    "from sklearn.linear_model import ElasticNet"
   ]
  },
  {
   "cell_type": "code",
   "execution_count": 37,
   "metadata": {},
   "outputs": [
    {
     "name": "stdout",
     "output_type": "stream",
     "text": [
      "TRAIN DATA RESULTS\n",
      "Mean Absolute Error on Train data :  5.384374186512277\n",
      "Mean Squared Error on Train data :  57.29487540660845\n",
      "Training Set R squared score :  0.32837814485847916\n",
      "\n",
      "TEST DATA RESULTS\n",
      "Mean Absolute Error on Test data :  5.47345892224782\n",
      "Mean Squared Error on Test data :  63.58630803113862\n",
      "Test Set R squared score :  0.2217004367773664\n"
     ]
    }
   ],
   "source": [
    "my_ElasticNet = ElasticNet().fit(X_train, y_train)\n",
    "\n",
    "my_preds_train = my_ElasticNet.predict(X_train)\n",
    "my_preds_test = my_ElasticNet.predict(X_test)\n",
    "\n",
    "print('TRAIN DATA RESULTS')\n",
    "print(\"Mean Absolute Error on Train data : \", mean_absolute_error(y_train, my_preds_train))\n",
    "print(\"Mean Squared Error on Train data : \", mean_squared_error(y_train, my_preds_train))\n",
    "print('Training Set R squared score : ', my_ElasticNet.score(X_train, y_train))\n",
    "\n",
    "print('\\nTEST DATA RESULTS')\n",
    "print(\"Mean Absolute Error on Test data : \", mean_absolute_error(y_test, my_preds_test))\n",
    "print(\"Mean Squared Error on Test data : \", mean_squared_error(y_test, my_preds_test))\n",
    "print('Test Set R squared score : ', my_ElasticNet.score(X_test, y_test))"
   ]
  },
  {
   "cell_type": "code",
   "execution_count": 30,
   "metadata": {},
   "outputs": [],
   "source": [
    "from sklearn.model_selection import GridSearchCV"
   ]
  },
  {
   "cell_type": "code",
   "execution_count": 31,
   "metadata": {},
   "outputs": [
    {
     "name": "stderr",
     "output_type": "stream",
     "text": [
      "/usr/local/lib/python3.7/site-packages/sklearn/linear_model/_coordinate_descent.py:648: ConvergenceWarning: Objective did not converge. You might want to increase the number of iterations, check the scale of the features or consider increasing regularisation. Duality gap: 7.510e+02, tolerance: 2.305e+00\n",
      "  coef_, l1_reg, l2_reg, X, y, max_iter, tol, rng, random, positive\n",
      "/usr/local/lib/python3.7/site-packages/sklearn/linear_model/_coordinate_descent.py:648: ConvergenceWarning: Objective did not converge. You might want to increase the number of iterations, check the scale of the features or consider increasing regularisation. Duality gap: 7.897e+02, tolerance: 2.249e+00\n",
      "  coef_, l1_reg, l2_reg, X, y, max_iter, tol, rng, random, positive\n",
      "/usr/local/lib/python3.7/site-packages/sklearn/linear_model/_coordinate_descent.py:648: ConvergenceWarning: Objective did not converge. You might want to increase the number of iterations, check the scale of the features or consider increasing regularisation. Duality gap: 8.350e+02, tolerance: 1.906e+00\n",
      "  coef_, l1_reg, l2_reg, X, y, max_iter, tol, rng, random, positive\n"
     ]
    },
    {
     "data": {
      "text/plain": [
       "GridSearchCV(cv=3, estimator=ElasticNet(),\n",
       "             param_grid={'alpha': [0.001, 0.01, 0.1, 0.2, 0.5, 0.8, 1, 5, 10],\n",
       "                         'max_iter': [1500, 10000, 100000]})"
      ]
     },
     "execution_count": 31,
     "metadata": {},
     "output_type": "execute_result"
    }
   ],
   "source": [
    "params = {'alpha':[0.001, 0.01, 0.1, 0.2, 0.5, 0.8, 1, 5, 10], 'max_iter':[1500, 10000, 100000]}\n",
    "grid_search = GridSearchCV(my_ElasticNet, params, cv = 3)\n",
    "grid_search.fit(X_train, y_train)"
   ]
  },
  {
   "cell_type": "code",
   "execution_count": 41,
   "metadata": {},
   "outputs": [
    {
     "data": {
      "text/plain": [
       "{'alpha': 0.001, 'max_iter': 10000}"
      ]
     },
     "execution_count": 41,
     "metadata": {},
     "output_type": "execute_result"
    }
   ],
   "source": [
    "grid_search.best_params_"
   ]
  },
  {
   "cell_type": "code",
   "execution_count": 42,
   "metadata": {},
   "outputs": [
    {
     "name": "stdout",
     "output_type": "stream",
     "text": [
      "TRAIN DATA RESULTS\n",
      "Mean Absolute Error on Train data :  1.874646958041671\n",
      "Mean Squared Error on Train data :  6.930029176982028\n",
      "Training Set R squared score :  0.9187648281107407\n",
      "\n",
      "TEST DATA RESULTS\n",
      "Mean Absolute Error on Test data :  2.887917049591466\n",
      "Mean Squared Error on Test data :  18.34465663740978\n",
      "Test Set R squared score :  0.7754604931399167\n"
     ]
    }
   ],
   "source": [
    "my_preds_train = grid_search.predict(X_train)\n",
    "my_preds_test = grid_search.predict(X_test)\n",
    "\n",
    "print('TRAIN DATA RESULTS')\n",
    "print(\"Mean Absolute Error on Train data : \", mean_absolute_error(y_train, my_preds_train))\n",
    "print(\"Mean Squared Error on Train data : \", mean_squared_error(y_train, my_preds_train))\n",
    "print('Training Set R squared score : ', grid_search.score(X_train, y_train))\n",
    "\n",
    "print('\\nTEST DATA RESULTS')\n",
    "print(\"Mean Absolute Error on Test data : \", mean_absolute_error(y_test, my_preds_test))\n",
    "print(\"Mean Squared Error on Test data : \", mean_squared_error(y_test, my_preds_test))\n",
    "print('Test Set R squared score : ', grid_search.score(X_test, y_test))"
   ]
  },
  {
   "cell_type": "code",
   "execution_count": null,
   "metadata": {},
   "outputs": [],
   "source": []
  }
 ],
 "metadata": {
  "kernelspec": {
   "display_name": "Python 3",
   "language": "python",
   "name": "python3"
  },
  "language_info": {
   "codemirror_mode": {
    "name": "ipython",
    "version": 3
   },
   "file_extension": ".py",
   "mimetype": "text/x-python",
   "name": "python",
   "nbconvert_exporter": "python",
   "pygments_lexer": "ipython3",
   "version": "3.7.6"
  }
 },
 "nbformat": 4,
 "nbformat_minor": 4
}
